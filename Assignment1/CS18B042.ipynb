{
  "nbformat": 4,
  "nbformat_minor": 0,
  "metadata": {
    "kernelspec": {
      "display_name": "py36notebook",
      "language": "python",
      "name": "py36notebook"
    },
    "language_info": {
      "codemirror_mode": {
        "name": "ipython",
        "version": 3
      },
      "file_extension": ".py",
      "mimetype": "text/x-python",
      "name": "python",
      "nbconvert_exporter": "python",
      "pygments_lexer": "ipython3",
      "version": "3.6.0"
    },
    "colab": {
      "name": "Copy of CS5691_student_version.ipynb",
      "provenance": [],
      "collapsed_sections": []
    }
  },
  "cells": [
    {
      "cell_type": "markdown",
      "metadata": {
        "id": "_QmWxLLA2YOF"
      },
      "source": [
        "# General Instructions to students:\n",
        "\n",
        "1. There are 5 types of cells in this notebook. The cell type will be indicated within the cell.\n",
        "    1. Markdown cells with problem written in it. (DO NOT TOUCH THESE CELLS) (**Cell type: TextRead**)\n",
        "    2. Python cells with setup code for further evaluations. (DO NOT TOUCH THESE CELLS) (**Cell type: CodeRead**)\n",
        "    3. Python code cells with some template code or empty cell. (FILL CODE IN THESE CELLS BASED ON INSTRUCTIONS IN CURRENT AND PREVIOUS CELLS) (**Cell type: CodeWrite**)\n",
        "    4. Markdown cells where a written reasoning or conclusion is expected. (WRITE SENTENCES IN THESE CELLS) (**Cell type: TextWrite**)\n",
        "    5. Temporary code cells for convenience and TAs. (YOU MAY DO WHAT YOU WILL WITH THESE CELLS, TAs WILL REPLACE WHATEVER YOU WRITE HERE WITH OFFICIAL EVALUATION CODE) (**Cell type: Convenience**)\n",
        "    \n",
        "2. You are not allowed to insert new cells in the submitted notebook.\n",
        "\n",
        "3. You are not allowed to **import** any extra packages.\n",
        "\n",
        "4. The code is to be written in Python 3.6 syntax. Latest versions of other packages maybe assumed.\n",
        "\n",
        "5. In CodeWrite Cells, the only outputs to be given are plots asked in the question. Nothing else to be output/print. \n",
        "\n",
        "6. If TextWrite cells ask you to give accuracy/error/other numbers you can print them on the code cells, but remove the print statements before submitting.\n",
        "\n",
        "7. The convenience code can be used to check the expected syntax of the functions. At a minimum, your entire notebook must run with \"run all\" with the convenience cells as it is. Any runtime failures on the submitted notebook as it is will get zero marks.\n",
        "\n",
        "8. All code must be written by yourself. Copying from other students/material on the web is strictly prohibited. Any violations will result in zero marks.\n",
        "\n",
        "9. All datasets will be given as .npz files, and will contain data in 4 numpy arrays :\"X_train, Y_train, X_test, Y_test\". In that order. The meaning of the 4 arrays can be easily inferred from their names.\n",
        "\n",
        "10. All plots must be labelled properly, all tables must have rows and columns named properly.\n",
        "\n",
        "11. Change the name of file with your roll no.\n",
        "\n"
      ]
    },
    {
      "cell_type": "code",
      "metadata": {
        "id": "bLOjYzzA2YOI"
      },
      "source": [
        "# Cell type : CodeRead\n",
        "\n",
        "import numpy as np\n",
        "import matplotlib.pyplot as plt\n"
      ],
      "execution_count": 35,
      "outputs": []
    },
    {
      "cell_type": "markdown",
      "metadata": {
        "id": "s3PBeaFv2YOO"
      },
      "source": [
        "**Cell type : TextRead**\n",
        "\n",
        "# Problem 6: Learning Binary Bayes Classifiers from data with Max. Likelihood \n",
        "\n",
        "Derive Bayes classifiers under assumptions below, and use ML estimators to compute and return the results on a test set. \n",
        "\n",
        "BayesA) Assume $X|Y=-1 \\sim \\mathcal{N}(\\mu_-, I)$ and  $X|Y=1 \\sim \\mathcal{N}(\\mu_+, I)$. *(Same known covariance)*\n",
        "\n",
        "BayesB) Assume $X|Y=-1 \\sim \\mathcal{N}(\\mu_-, \\Sigma)$ and $X|Y=1 \\sim \\mathcal{N}(\\mu_+, \\Sigma)$ *(Same unknown covariance)*\n",
        "\n",
        "BayesC) Assume $X|Y=-1 \\sim \\mathcal{N}(\\mu_-, \\Sigma_-)$ and $X|Y=1 \\sim \\mathcal{N}(\\mu_+, \\Sigma_+)$ *(different unknown covariance)*\n",
        "\n",
        "\n"
      ]
    },
    {
      "cell_type": "code",
      "metadata": {
        "id": "VTl6PNIQ2YOP"
      },
      "source": [
        "# Cell type : CodeWrite\n",
        "\n",
        "def function_for_A(X_train, Y_train, X_test):\n",
        "    \"\"\" Give prediction for test instance using assumption BayesA.\n",
        "\n",
        "    Arguments:\n",
        "    X_train: numpy array of shape (n,d)\n",
        "    Y_train: +1/-1 numpy array of shape (n,)\n",
        "    X_test : numpy array of shape (m,d)\n",
        "\n",
        "    Returns:\n",
        "    Y_test_pred : +1/-1 numpy array of shape (m,)\n",
        "    \n",
        "    \"\"\"\n",
        "    s=Y_train.size\n",
        "    s2 = X_train.size\n",
        "    d=s2//s\n",
        "    s3 = X_test.size//d\n",
        "\n",
        "    pos = np.sum(Y_train == 1)\n",
        "    neg = s - pos\n",
        "\n",
        "    pos_arr = np.empty(shape=(0, 0))\n",
        "    neg_arr = np.empty(shape=(0, 0))\n",
        "\n",
        "    for i in range(s):\n",
        "      if Y_train[i] == 1:\n",
        "        pos_arr = np.append(pos_arr ,X_train[i])\n",
        "      else :\n",
        "        neg_arr = np.append(neg_arr,X_train[i])\n",
        "\n",
        "    pos_arr = np.resize(pos_arr,(pos,d))\n",
        "    neg_arr = np.resize(neg_arr,(neg,d))\n",
        "\n",
        "    mu_pos = np.mean(pos_arr,axis=0)\n",
        "    mu_neg = np.mean(neg_arr,axis=0)\n",
        "\n",
        "    cov_pos = np.identity(d)\n",
        "    cov_neg = np.identity(d)\n",
        "    cov_inv_pos = np.linalg.inv(cov_pos)\n",
        "    cov_inv_neg = np.linalg.inv(cov_neg)\n",
        "\n",
        "    Y_result = np.zeros(s3)\n",
        "    # print(s3)\n",
        "    # print(mu_pos)\n",
        "    # print(pos)\n",
        "    # print(np.log(pos))\n",
        "    for i in range(s3):\n",
        "      x = X_test[i].reshape(1,d) - mu_pos.reshape(1,d)\n",
        "\n",
        "      yy_pos = np.log(pos) - (np.log(np.linalg.det(cov_pos) ))/2 - np.matmul(x,np.matmul(cov_inv_pos,np.transpose(x)))/2\n",
        "      #print(yy_pos)\n",
        "      x = X_test[i].reshape(1,d) - mu_neg.reshape(1,d)\n",
        "      yy_neg = np.log(neg) - (np.log(np.linalg.det(cov_neg) ))/2 - np.matmul(x,np.matmul(cov_inv_neg,np.transpose(x)))/2\n",
        "      #print(yy_neg)\n",
        "      if yy_pos > yy_neg :\n",
        "        Y_result[i] = 1\n",
        "      else :\n",
        "        Y_result[i] = -1\n",
        "\n",
        "    return (Y_result)\n",
        "\n",
        "    \n",
        "def function_for_B(X_train, Y_train, X_test):\n",
        "    \"\"\" Give prediction for test instance using assumption BayesB.\n",
        "\n",
        "    Arguments:\n",
        "    X_train: numpy array of shape (n,d)\n",
        "    Y_train: +1/-1 numpy array of shape (n,)\n",
        "    X_test : numpy array of shape (m,d)\n",
        "\n",
        "    Returns:\n",
        "    Y_test_pred : +1/-1 numpy array of shape (m,)\n",
        "    \n",
        "    \"\"\"\n",
        "    s=Y_train.size\n",
        "    s2 = X_train.size\n",
        "    d=s2//s\n",
        "    s3 = X_test.size//d\n",
        "\n",
        "    pos = np.sum(Y_train == 1)\n",
        "    neg = s - pos\n",
        "\n",
        "    pos_arr = np.empty(shape=(0, 0))\n",
        "    neg_arr = np.empty(shape=(0, 0))\n",
        "\n",
        "    for i in range(s):\n",
        "      if Y_train[i] == 1:\n",
        "        pos_arr = np.append(pos_arr ,X_train[i])\n",
        "      else :\n",
        "        neg_arr = np.append(neg_arr,X_train[i])\n",
        "\n",
        "    pos_arr = np.resize(pos_arr,(pos,d))\n",
        "    neg_arr = np.resize(neg_arr,(neg,d))\n",
        "\n",
        "    mu_pos = np.mean(pos_arr,axis=0)\n",
        "    mu_neg = np.mean(neg_arr,axis=0)\n",
        "\n",
        "    cov_pos = np.cov(X_train.T)\n",
        "    cov_neg = np.cov(X_train.T)\n",
        "    cov_inv_pos = np.linalg.inv(cov_pos)\n",
        "    cov_inv_neg = np.linalg.inv(cov_neg)\n",
        "\n",
        "    Y_result = np.zeros(s3)\n",
        "    # print(s3)\n",
        "    # print(mu_pos)\n",
        "    # print(pos)\n",
        "    # print(np.log(pos))\n",
        "    for i in range(s3):\n",
        "      x = X_test[i].reshape(1,d) - mu_pos.reshape(1,d)\n",
        "\n",
        "      yy_pos = np.log(pos) - (np.log(np.linalg.det(cov_pos) ))/2 - np.matmul(x,np.matmul(cov_inv_pos,np.transpose(x)))/2\n",
        "      #print(yy_pos)\n",
        "      x = X_test[i].reshape(1,d) - mu_neg.reshape(1,d)\n",
        "      yy_neg = np.log(neg) - (np.log(np.linalg.det(cov_neg) ))/2 - np.matmul(x,np.matmul(cov_inv_neg,np.transpose(x)))/2\n",
        "      #print(yy_neg)\n",
        "      if yy_pos > yy_neg :\n",
        "        Y_result[i] = 1\n",
        "      else :\n",
        "        Y_result[i] = -1\n",
        "\n",
        "    return (Y_result)\n",
        "\n",
        "\n",
        "\n",
        "\n",
        "def function_for_C(X_train, Y_train, X_test):\n",
        "    \"\"\" Give prediction for test instance using assumption BayesC.\n",
        "\n",
        "    Arguments:\n",
        "    X_train: numpy array of shape (n,d)\n",
        "    Y_train: +1/-1 numpy array of shape (n,)\n",
        "    X_test : numpy array of shape (m,d)\n",
        "\n",
        "    Returns:\n",
        "    Y_test_pred : +1/-1 numpy array of shape (m,)\n",
        "    \n",
        "    \"\"\"\n",
        "\n",
        "    s=Y_train.size\n",
        "    s2 = X_train.size\n",
        "    d=s2//s\n",
        "    s3 = X_test.size//d\n",
        "\n",
        "    pos = np.sum(Y_train == 1)\n",
        "    neg = s - pos\n",
        "\n",
        "    pos_arr = np.empty(shape=(0, 0))\n",
        "    neg_arr = np.empty(shape=(0, 0))\n",
        "\n",
        "    for i in range(s):\n",
        "      if Y_train[i] == 1:\n",
        "        pos_arr = np.append(pos_arr ,X_train[i])\n",
        "      else :\n",
        "        neg_arr = np.append(neg_arr,X_train[i])\n",
        "\n",
        "    pos_arr = np.resize(pos_arr,(pos,d))\n",
        "    neg_arr = np.resize(neg_arr,(neg,d))\n",
        "\n",
        "    mu_pos = np.mean(pos_arr,axis=0)\n",
        "    mu_neg = np.mean(neg_arr,axis=0)\n",
        "\n",
        "    cov_pos = np.cov(pos_arr.T)\n",
        "    cov_neg = np.cov(neg_arr.T)\n",
        "    cov_inv_pos = np.linalg.inv(cov_pos)\n",
        "    cov_inv_neg = np.linalg.inv(cov_neg)\n",
        "\n",
        "    Y_result = np.zeros(s3)\n",
        "    # print(s3)\n",
        "    # print(mu_pos)\n",
        "    # print(pos)\n",
        "    # print(np.log(pos))\n",
        "    for i in range(s3):\n",
        "      x = X_test[i].reshape(1,d) - mu_pos.reshape(1,d)\n",
        "\n",
        "      yy_pos = np.log(pos) - (np.log(np.linalg.det(cov_pos) ))/2 - np.matmul(x,np.matmul(cov_inv_pos,np.transpose(x)))/2\n",
        "      #print(yy_pos)\n",
        "      x = X_test[i].reshape(1,d) - mu_neg.reshape(1,d)\n",
        "      yy_neg = np.log(neg) - (np.log(np.linalg.det(cov_neg) ))/2 - np.matmul(x,np.matmul(cov_inv_neg,np.transpose(x)))/2\n",
        "      #print(yy_neg)\n",
        "      if yy_pos > yy_neg :\n",
        "        Y_result[i] = 1\n",
        "      else :\n",
        "        Y_result[i] = -1\n",
        "\n",
        "    return (Y_result)\n",
        "    \n",
        "    \n",
        "\n",
        "\n"
      ],
      "execution_count": 37,
      "outputs": []
    },
    {
      "cell_type": "code",
      "metadata": {
        "id": "lS9x9njRnYqz",
        "colab": {
          "base_uri": "https://localhost:8080/"
        },
        "outputId": "8e146728-0e69-4bba-9c52-9d023ee739f1"
      },
      "source": [
        "# Cell type : Convenience\n",
        "\n",
        "# Testing the functions above\n",
        "\n",
        "# To students: You may use the example here for testing syntax issues \n",
        "# with your functions, and also as a sanity check. But the final evaluation\n",
        "# will be done for different inputs to the functions. (So you can't just \n",
        "# solve the problem for this one example given below.) \n",
        "# try to remove everything or comment out your lines before submitting.\n",
        "\n",
        "\n",
        "X_train_pos = np.random.randn(1000,2)+np.array([[1.,2.]])\n",
        "X_train_neg = np.random.randn(1000,2)+np.array([[2.,4.]])\n",
        "X_train = np.concatenate((X_train_pos, X_train_neg), axis=0)\n",
        "Y_train = np.concatenate(( np.ones(1000), -1*np.ones(1000) ))\n",
        "X_test_pos = np.random.randn(1000,2)+np.array([[1.,2.]])\n",
        "X_test_neg = np.random.randn(1000,2)+np.array([[2.,4.]])\n",
        "X_test = np.concatenate((X_test_pos, X_test_neg), axis=0)\n",
        "Y_test = np.concatenate(( np.ones(1000), -1*np.ones(1000) ))\n",
        "\n",
        "Y_pred_test_1a = function_for_A(X_train, Y_train, X_test)\n",
        "Y_pred_test_1b = function_for_B(X_train, Y_train, X_test)\n",
        "Y_pred_test_1c = function_for_C(X_train, Y_train, X_test)\n",
        "print(Y_pred_test_1c)"
      ],
      "execution_count": 38,
      "outputs": [
        {
          "output_type": "stream",
          "text": [
            "[ 1.  1.  1. ... -1. -1. -1.]\n"
          ],
          "name": "stdout"
        }
      ]
    },
    {
      "cell_type": "markdown",
      "metadata": {
        "id": "oxn_5V_M2YOa"
      },
      "source": [
        "**Cell type : TextRead**\n",
        "\n",
        "# Problem 6\n",
        "\n",
        "#### 6a) Run the above three algorithms (BayesA,B and C), for the three datasets given (datasetA.npz, datasetB.npz, datasetC.npz) in the cell below.\n",
        "#### In the next CodeWrite cell, Plot all the classifiers (3 classification algos on 3 datasets = 9 plots) on a 2d plot (color the positively classified area light green, and negatively classified area light red). Add the training data points also on the plot. Plots to be organised into 3 plots follows: One plot for each dataset, with three subplots in each for the three classifiers. Label the 9 plots appropriately.\n",
        "\n",
        "\n",
        "\n"
      ]
    },
    {
      "cell_type": "code",
      "metadata": {
        "id": "03-5tY9-2YOc",
        "colab": {
          "base_uri": "https://localhost:8080/",
          "height": 856
        },
        "outputId": "8ab3ef5f-acbd-4eff-fdf7-aa8c6b9fa62b"
      },
      "source": [
        "# Cell type : CodeWrite\n",
        "# write the code for loading the data, running the three algos, and plotting here. \n",
        "# (Use the functions written previously.)\n",
        "\n",
        "def split (X_train,Y_train):\n",
        "  s=Y_train.size\n",
        "  s2 = X_train.size\n",
        "  d=s2//s\n",
        "  pos = np.sum(Y_train == 1)\n",
        "  neg = s - pos\n",
        "\n",
        "  pos_arr = np.empty(shape=(0, 0))\n",
        "  neg_arr = np.empty(shape=(0, 0))\n",
        "  for i in range(s):\n",
        "    if Y_train[i] == 1:\n",
        "      pos_arr = np.append(pos_arr ,X_train[i])\n",
        "    else :\n",
        "      neg_arr = np.append(neg_arr,X_train[i])\n",
        "  return pos_arr.reshape(pos,d) , neg_arr.reshape(neg,d) \n",
        "\n",
        "def fun(s,i):\n",
        "  data = np.load(s)\n",
        "  X_train = data[\"arr_0\"]\n",
        "  Y_train = data[\"arr_1\"]\n",
        "  X_test = data[\"arr_2\"]\n",
        "\n",
        "\n",
        "  X_test = np.concatenate((X_test,X_train),axis=0)\n",
        "\n",
        "  Y_pred_test_1a = function_for_A(X_train, Y_train, X_test)\n",
        "  Y_pred_test_1b = function_for_B(X_train, Y_train, X_test)\n",
        "  Y_pred_test_1c = function_for_C(X_train, Y_train, X_test)\n",
        "\n",
        "  pos_a,neg_a = split (X_test,Y_pred_test_1a)\n",
        "  pos_b,neg_b = split (X_test,Y_pred_test_1b)\n",
        "  pos_c,neg_c = split (X_test,Y_pred_test_1c)\n",
        "\n",
        "  pos_a.shape\n",
        "  y=plt.figure(i)\n",
        "  \n",
        "\n",
        "  plt.subplot(311)\n",
        "  plt.title(\"data \"+str(i)+' fun A')\n",
        "  plt.scatter(pos_a[:,0],pos_a[:,1],c='lightgreen')\n",
        "  plt.scatter(neg_a[:,0],neg_a[:,1],c='red')\n",
        "\n",
        "  plt.subplot(312)\n",
        "  plt.title(\"data \"+str(i)+' fun B')\n",
        "  plt.scatter(pos_b[:,0],pos_b[:,1],c='lightgreen')\n",
        "  plt.scatter(neg_b[:,0],neg_b[:,1],c='red')\n",
        "\n",
        "  plt.subplot(313)\n",
        "  plt.title(\"data \"+str(i)+' fun c')\n",
        "  plt.scatter(pos_c[:,0],pos_c[:,1],c='lightgreen')\n",
        "  plt.scatter(neg_c[:,0],neg_c[:,1],c='red')\n",
        "\n",
        "  y.tight_layout()\n",
        "\n",
        "fun('/content/datasetA.npz',1)\n",
        "fun('/content/datasetB.npz',2)\n",
        "fun('/content/datasetC.npz',3)\n"
      ],
      "execution_count": 44,
      "outputs": [
        {
          "output_type": "display_data",
          "data": {
            "image/png": "[encoded data removed]",
            "text/plain": [
              "<Figure size 432x288 with 3 Axes>"
            ]
          },
          "metadata": {
            "tags": [],
            "needs_background": "light"
          }
        },
        {
          "output_type": "display_data",
          "data": {
            "image/png": "[encoded data removed]",
            "text/plain": [
              "<Figure size 432x288 with 3 Axes>"
            ]
          },
          "metadata": {
            "tags": [],
            "needs_background": "light"
          }
        },
        {
          "output_type": "display_data",
          "data": {
            "image/png": "[encoded data removed]",
            "text/plain": [
              "<Figure size 432x288 with 3 Axes>"
            ]
          },
          "metadata": {
            "tags": [],
            "needs_background": "light"
          }
        }
      ]
    },
    {
      "cell_type": "markdown",
      "metadata": {
        "id": "A4l-j-e-sDr1"
      },
      "source": [
        "####6b) Give the ROC Curves for all the classifiers.\n",
        "\n"
      ]
    },
    {
      "cell_type": "code",
      "metadata": {
        "id": "-imwHLynsTee"
      },
      "source": [
        "# Cell type : CodeWrite\n",
        "# write the code for loading the data, running the three algos, and plotting here. \n",
        "# (Use the functions written previously.)\n",
        "\n"
      ],
      "execution_count": null,
      "outputs": []
    },
    {
      "cell_type": "markdown",
      "metadata": {
        "id": "n0T5nHANsIVE"
      },
      "source": [
        "####6c) In the next Textwrite cell, give the error rate of the three classifiers on the three datasets as 3x3 table, with appropriately named rows and columns.\n",
        "\n"
      ]
    },
    {
      "cell_type": "markdown",
      "metadata": {
        "id": "1J6XNLuPsdFs"
      },
      "source": [
        "**Cell type : TextWrite**\n",
        "(Write your observations and table of errors here)\n"
      ]
    },
    {
      "cell_type": "markdown",
      "metadata": {
        "id": "FOV0CPf5sJ-v"
      },
      "source": [
        "####6d) In the next Textwrite cell, summarise your observations regarding the nine learnt classifiers."
      ]
    }
  ]
}